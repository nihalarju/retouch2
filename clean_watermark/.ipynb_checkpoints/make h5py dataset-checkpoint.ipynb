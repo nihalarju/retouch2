{
 "cells": [
  {
   "cell_type": "code",
   "execution_count": 12,
   "id": "d0d429a3-890c-49bd-9859-35ed93d6585b",
   "metadata": {},
   "outputs": [],
   "source": [
    "import h5py\n",
    "import imageio.v2 as imageio\n",
    "import os\n",
    "import zipfile\n",
    "import glob"
   ]
  },
  {
   "cell_type": "code",
   "execution_count": 25,
   "id": "6fce487e-2124-43c8-8faa-1d2bd536f0b0",
   "metadata": {},
   "outputs": [
    {
     "name": "stdout",
     "output_type": "stream",
     "text": [
      "CPU times: user 4 µs, sys: 0 ns, total: 4 µs\n",
      "Wall time: 5.72 µs\n"
     ]
    }
   ],
   "source": [
    "\n",
    "\n",
    "# location of the HDF5 package, yours may be under /gan/ not /myo_gan/\n",
    "def create_h5py_from_image_dir(sourcedir, hdf5_file, total_images = 2000000):\n",
    "    # total_images: # how many of the 202,599 images to extract and package into HDF5\n",
    "    \n",
    "    orifs = glob.glob(oriloc + \"*.png\")\n",
    "    \n",
    "    with h5py.File(hdf5_file, 'w') as hf:\n",
    "    \n",
    "        count = 0\n",
    "    \n",
    "        for orif in orifs:\n",
    "          img = imageio.imread(orif)\n",
    "    \n",
    "          # add image data to HDF5 file with new name\n",
    "          hf.create_dataset('coil-100-originals/'+str(count)+'.png', data=img, compression=\"gzip\", compression_opts=9)\n",
    "          \n",
    "          count = count + 1\n",
    "          if (count%1000 == 0):\n",
    "            print(\"images done .. \", count)\n",
    "            \n",
    "          # stop when total_images reached\n",
    "          if (count >= total_images):\n",
    "            break\n",
    "    return 0"
   ]
  },
  {
   "cell_type": "code",
   "execution_count": null,
   "id": "a363bdcd-7775-46a7-a70a-223b5dcf1ad4",
   "metadata": {},
   "outputs": [],
   "source": [
    "%%time\n",
    "sourcedir = \"/Users/narju/Documents/code/educative/retouch/originals/\"\n",
    "hdf5_file = \"/Users/narju/Documents/code/educative/retouch/coil-100-originals.h5py\"\n",
    "\n",
    "create_h5py_from_image_dir(sourcedir, hd5_file)"
   ]
  },
  {
   "cell_type": "code",
   "execution_count": null,
   "id": "1b8c7061-c394-4458-a1a4-6b1342548414",
   "metadata": {},
   "outputs": [],
   "source": [
    "sourcedir = \"/Users/narju/Documents/code/educative/retouch/watermarked/\"\n",
    "hdf5_file = \"/Users/narju/Documents/code/educative/retouch/coil-100-watermarked.h5py\"\n",
    "\n",
    "\n",
    "\n",
    "waterfs = glob.glob(waterloc + \"*.png\")\n"
   ]
  },
  {
   "cell_type": "code",
   "execution_count": 22,
   "id": "09e86fec-e1c3-4aaf-b1d4-e95eeda8cd06",
   "metadata": {},
   "outputs": [
    {
     "name": "stdout",
     "output_type": "stream",
     "text": [
      "images done ..  1000\n",
      "images done ..  2000\n",
      "images done ..  3000\n",
      "images done ..  4000\n",
      "images done ..  5000\n",
      "images done ..  6000\n",
      "images done ..  7000\n",
      "CPU times: user 28.4 s, sys: 4.98 s, total: 33.4 s\n",
      "Wall time: 41.5 s\n"
     ]
    }
   ],
   "source": [
    "%%time\n",
    "\n",
    "# location of the HDF5 package, yours may be under /gan/ not /myo_gan/\n",
    "\n",
    "with h5py.File(hdf5_file, 'w') as hf:\n",
    "\n",
    "    count = 0\n",
    "\n",
    "    for waterf in waterfs:\n",
    "      img = imageio.imread(waterf)\n",
    "\n",
    "      # add image data to HDF5 file with new name\n",
    "      hf.create_dataset('coil-100-watermarked/'+str(count)+'.png', data=img, compression=\"gzip\", compression_opts=9)\n",
    "      \n",
    "      count = count + 1\n",
    "      if (count%1000 == 0):\n",
    "        print(\"images done .. \", count)\n",
    "        \n",
    "      # stop when total_images reached\n",
    "      if (count >= total_images):\n",
    "        break\n"
   ]
  },
  {
   "cell_type": "code",
   "execution_count": null,
   "id": "1eb9ccb6-7627-41a5-a437-2d961d12609a",
   "metadata": {},
   "outputs": [],
   "source": []
  }
 ],
 "metadata": {
  "kernelspec": {
   "display_name": "Python 3 (ipykernel)",
   "language": "python",
   "name": "python3"
  },
  "language_info": {
   "codemirror_mode": {
    "name": "ipython",
    "version": 3
   },
   "file_extension": ".py",
   "mimetype": "text/x-python",
   "name": "python",
   "nbconvert_exporter": "python",
   "pygments_lexer": "ipython3",
   "version": "3.10.13"
  }
 },
 "nbformat": 4,
 "nbformat_minor": 5
}

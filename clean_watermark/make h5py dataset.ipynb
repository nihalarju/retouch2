{
 "cells": [
  {
   "cell_type": "code",
   "execution_count": 1,
   "id": "d0d429a3-890c-49bd-9859-35ed93d6585b",
   "metadata": {},
   "outputs": [],
   "source": [
    "import h5py\n",
    "import imageio.v2 as imageio\n",
    "import os\n",
    "import zipfile\n",
    "import glob\n",
    "import pandas as pd"
   ]
  },
  {
   "cell_type": "code",
   "execution_count": 68,
   "id": "6fce487e-2124-43c8-8faa-1d2bd536f0b0",
   "metadata": {},
   "outputs": [],
   "source": [
    "# location of the HDF5 package, yours may be under /gan/ not /myo_gan/\n",
    "def create_h5py_from_image_dir(sourcedir, hdf5_file, total_images = 2e4):\n",
    "    # total_images: # how many of the 202,599 images to extract and package into HDF5\n",
    "    \n",
    "    orifs = glob.glob(sourcedir + \"*.png\")\n",
    "    tracksheet = {\"fname\": [], \"number\": []}\n",
    "    \n",
    "    with h5py.File(hdf5_file, 'w') as hf:\n",
    "    \n",
    "        count = 0\n",
    "    \n",
    "        for orif in orifs:\n",
    "          img = imageio.imread(orif)\n",
    "    \n",
    "          # add image data to HDF5 file with new name \n",
    "          # hf.create_dataset('img_align_celeba/'+str(count)+'.jpg', data=img, compression=\"gzip\", compression_opts=9)\n",
    "          # basename = os.path.basename(orif)\n",
    "          hf.create_dataset('coil-100/'+ str(count) + '.png', data=img, compression=\"gzip\", compression_opts=9)\n",
    "          tracksheet[\"fname\"].append(orif)\n",
    "          tracksheet[\"number\"].append(count)\n",
    "          # print(basename)\n",
    "          count = count + 1\n",
    "          if (count%1000 == 0):\n",
    "            print(\"images done .. \", count)\n",
    "            \n",
    "          # stop when total_images reached\n",
    "          if (count >= total_images):\n",
    "            break\n",
    "    tracksheet = pd.DataFrame(tracksheet)\n",
    "    tracksheet.to_csv(hdf5_file + \".tracksheet.csv\", index = False)\n",
    "    return 0"
   ]
  },
  {
   "cell_type": "code",
   "execution_count": 70,
   "id": "a363bdcd-7775-46a7-a70a-223b5dcf1ad4",
   "metadata": {},
   "outputs": [
    {
     "name": "stdout",
     "output_type": "stream",
     "text": [
      "images done ..  1000\n",
      "images done ..  2000\n",
      "images done ..  3000\n",
      "images done ..  4000\n",
      "images done ..  5000\n",
      "images done ..  6000\n",
      "images done ..  7000\n",
      "images done ..  8000\n",
      "images done ..  9000\n",
      "images done ..  10000\n",
      "images done ..  11000\n",
      "images done ..  12000\n",
      "images done ..  13000\n",
      "images done ..  14000\n",
      "images done ..  15000\n",
      "CPU times: user 56.4 s, sys: 5.98 s, total: 1min 2s\n",
      "Wall time: 1min 31s\n"
     ]
    },
    {
     "data": {
      "text/plain": [
       "0"
      ]
     },
     "execution_count": 70,
     "metadata": {},
     "output_type": "execute_result"
    }
   ],
   "source": [
    "%%time\n",
    "sourcedir = \"/Users/narju/Documents/code/educative/retouch/originals w text/\"\n",
    "hdf5_file = \"/Users/narju/Documents/code/educative/retouch/coil-100-texts.h5py\"\n",
    "\n",
    "create_h5py_from_image_dir(sourcedir=sourcedir, hdf5_file=hdf5_file)"
   ]
  },
  {
   "cell_type": "code",
   "execution_count": 69,
   "id": "1b8c7061-c394-4458-a1a4-6b1342548414",
   "metadata": {},
   "outputs": [
    {
     "name": "stdout",
     "output_type": "stream",
     "text": [
      "images done ..  1000\n",
      "images done ..  2000\n",
      "images done ..  3000\n",
      "images done ..  4000\n",
      "images done ..  5000\n",
      "images done ..  6000\n",
      "images done ..  7000\n"
     ]
    },
    {
     "data": {
      "text/plain": [
       "0"
      ]
     },
     "execution_count": 69,
     "metadata": {},
     "output_type": "execute_result"
    }
   ],
   "source": [
    "sourcedir = \"/Users/narju/Documents/code/educative/retouch/watermarked/\"\n",
    "hdf5_file = \"/Users/narju/Documents/code/educative/retouch/coil-100-watermarked.h5py\"\n",
    "\n",
    "create_h5py_from_image_dir(sourcedir=sourcedir, hdf5_file=hdf5_file)"
   ]
  },
  {
   "cell_type": "code",
   "execution_count": 2,
   "id": "4f660996-5b57-4b6e-afdd-ff25331e2250",
   "metadata": {},
   "outputs": [
    {
     "name": "stdout",
     "output_type": "stream",
     "text": [
      "/Users/narju/Documents/code/educative/retouch/clean_watermark\n"
     ]
    }
   ],
   "source": [
    "import os\n",
    "print(os.getcwd())"
   ]
  },
  {
   "cell_type": "code",
   "execution_count": 3,
   "id": "1e6fc1de-40d7-4558-889c-59c6444ae442",
   "metadata": {},
   "outputs": [],
   "source": [
    "f = h5py.File(\"test.h5\", 'w')\n",
    "dset = f.create_dataset(\"test\",(2,2))"
   ]
  },
  {
   "cell_type": "code",
   "execution_count": 18,
   "id": "f2194071-a601-4278-a448-bae30f120eb4",
   "metadata": {},
   "outputs": [
    {
     "ename": "NameError",
     "evalue": "name 'np' is not defined",
     "output_type": "error",
     "traceback": [
      "\u001b[0;31m---------------------------------------------------------------------------\u001b[0m",
      "\u001b[0;31mNameError\u001b[0m                                 Traceback (most recent call last)",
      "Cell \u001b[0;32mIn[18], line 1\u001b[0m\n\u001b[0;32m----> 1\u001b[0m dset[\u001b[38;5;241m1\u001b[39m,\u001b[38;5;241m1\u001b[39m] \u001b[38;5;241m=\u001b[39m \u001b[43mnp\u001b[49m\u001b[38;5;241m.\u001b[39mrandom(\u001b[38;5;241m2\u001b[39m,\u001b[38;5;241m2\u001b[39m)\n",
      "\u001b[0;31mNameError\u001b[0m: name 'np' is not defined"
     ]
    }
   ],
   "source": [
    "dset[1,1] = np.random(2,2)"
   ]
  },
  {
   "cell_type": "code",
   "execution_count": 24,
   "id": "e8e64baf-b5f0-49d3-b8a2-f0a6a8322055",
   "metadata": {},
   "outputs": [
    {
     "ename": "ValueError",
     "evalue": "setting an array element with a sequence.",
     "output_type": "error",
     "traceback": [
      "\u001b[0;31m---------------------------------------------------------------------------\u001b[0m",
      "\u001b[0;31mTypeError\u001b[0m                                 Traceback (most recent call last)",
      "\u001b[0;31mTypeError\u001b[0m: only size-1 arrays can be converted to Python scalars",
      "\nThe above exception was the direct cause of the following exception:\n",
      "\u001b[0;31mValueError\u001b[0m                                Traceback (most recent call last)",
      "Cell \u001b[0;32mIn[24], line 1\u001b[0m\n\u001b[0;32m----> 1\u001b[0m dset[\u001b[38;5;241m1\u001b[39m][\u001b[38;5;241m1\u001b[39m] \u001b[38;5;241m=\u001b[39m np\u001b[38;5;241m.\u001b[39mrandom\u001b[38;5;241m.\u001b[39mrandom((\u001b[38;5;241m2\u001b[39m,\u001b[38;5;241m2\u001b[39m))\n",
      "\u001b[0;31mValueError\u001b[0m: setting an array element with a sequence."
     ]
    }
   ],
   "source": [
    "dset[1][1] = np.random.random((2,2))"
   ]
  },
  {
   "cell_type": "code",
   "execution_count": 14,
   "id": "6a451800-a9d3-4f08-9fa2-177c2a8c47ba",
   "metadata": {},
   "outputs": [
    {
     "data": {
      "text/plain": [
       "<HDF5 dataset \"test\": shape (2, 2), type \"<f4\">"
      ]
     },
     "execution_count": 14,
     "metadata": {},
     "output_type": "execute_result"
    }
   ],
   "source": [
    "f['test']"
   ]
  },
  {
   "cell_type": "code",
   "execution_count": 17,
   "id": "319d43cc-dadb-48b5-9572-223ae52c8ffb",
   "metadata": {},
   "outputs": [
    {
     "data": {
      "text/plain": [
       "array([[0., 0.],\n",
       "       [0., 2.]], dtype=float32)"
      ]
     },
     "execution_count": 17,
     "metadata": {},
     "output_type": "execute_result"
    }
   ],
   "source": [
    "dset[0:2,[0,1]]"
   ]
  },
  {
   "cell_type": "code",
   "execution_count": 19,
   "id": "2021081f-ac4a-48ec-adfe-aec15b925741",
   "metadata": {},
   "outputs": [],
   "source": [
    "import numpy as np"
   ]
  },
  {
   "cell_type": "code",
   "execution_count": 23,
   "id": "441eec33-eb77-4f68-82c0-31515e132a85",
   "metadata": {},
   "outputs": [
    {
     "data": {
      "text/plain": [
       "array([[0.37250241, 0.02806269],\n",
       "       [0.09904519, 0.85769808]])"
      ]
     },
     "execution_count": 23,
     "metadata": {},
     "output_type": "execute_result"
    }
   ],
   "source": [
    "np.random.random((2,2))"
   ]
  },
  {
   "cell_type": "code",
   "execution_count": null,
   "id": "1f0f7d4a-2dd0-4b71-b451-a741f75cb84d",
   "metadata": {},
   "outputs": [],
   "source": []
  }
 ],
 "metadata": {
  "kernelspec": {
   "display_name": "Python 3 (ipykernel)",
   "language": "python",
   "name": "python3"
  },
  "language_info": {
   "codemirror_mode": {
    "name": "ipython",
    "version": 3
   },
   "file_extension": ".py",
   "mimetype": "text/x-python",
   "name": "python",
   "nbconvert_exporter": "python",
   "pygments_lexer": "ipython3",
   "version": "3.10.13"
  }
 },
 "nbformat": 4,
 "nbformat_minor": 5
}
